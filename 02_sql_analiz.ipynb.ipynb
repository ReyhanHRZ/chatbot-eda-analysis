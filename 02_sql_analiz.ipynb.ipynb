{
 "cells": [
  {
   "cell_type": "code",
   "execution_count": 19,
   "id": "39653c56-4f85-43d9-969e-43fc71705360",
   "metadata": {},
   "outputs": [
    {
     "name": "stdout",
     "output_type": "stream",
     "text": [
      "✅ Veri başarıyla veritabanına yazıldı.\n"
     ]
    },
    {
     "data": {
      "text/html": [
       "<div>\n",
       "<style scoped>\n",
       "    .dataframe tbody tr th:only-of-type {\n",
       "        vertical-align: middle;\n",
       "    }\n",
       "\n",
       "    .dataframe tbody tr th {\n",
       "        vertical-align: top;\n",
       "    }\n",
       "\n",
       "    .dataframe thead th {\n",
       "        text-align: right;\n",
       "    }\n",
       "</style>\n",
       "<table border=\"1\" class=\"dataframe\">\n",
       "  <thead>\n",
       "    <tr style=\"text-align: right;\">\n",
       "      <th></th>\n",
       "      <th>Cinsiyet</th>\n",
       "      <th>KisiSayisi</th>\n",
       "      <th>Ortalama_YZ_Kabulu</th>\n",
       "    </tr>\n",
       "  </thead>\n",
       "  <tbody>\n",
       "    <tr>\n",
       "      <th>0</th>\n",
       "      <td>Erkek</td>\n",
       "      <td>47</td>\n",
       "      <td>3.93</td>\n",
       "    </tr>\n",
       "    <tr>\n",
       "      <th>1</th>\n",
       "      <td>Kadın</td>\n",
       "      <td>339</td>\n",
       "      <td>4.10</td>\n",
       "    </tr>\n",
       "  </tbody>\n",
       "</table>\n",
       "</div>"
      ],
      "text/plain": [
       "  Cinsiyet  KisiSayisi  Ortalama_YZ_Kabulu\n",
       "0    Erkek          47                3.93\n",
       "1    Kadın         339                4.10"
      ]
     },
     "execution_count": 19,
     "metadata": {},
     "output_type": "execute_result"
    }
   ],
   "source": [
    "import pandas as pd\n",
    "import sqlite3\n",
    "\n",
    "# Veriyi oku\n",
    "df = pd.read_csv(\"C:\\\\Users\\\\REYHAN\\OneDrive\\\\Masaüstü\\\\Veri_Analiz\\\\Yapay zeka\\\\github\\\\data\\\\yapayzeka_düzenli.csv\")\n",
    "\n",
    "# SQLite veritabanı oluştur ve veriyi kaydet\n",
    "conn = sqlite3.connect(\"C:\\\\Users\\\\REYHAN\\\\OneDrive\\\\Masaüstü\\\\Veri_Analiz\\\\Yapay zeka\\\\github\\\\data\\\\chatbot_analiz.db\")\n",
    "df.to_sql(\"chatbot_anketi\", conn, if_exists=\"replace\", index=False)\n",
    "\n",
    "print(\"✅ Veri başarıyla veritabanına yazıldı.\")\n",
    "query1 = \"\"\"\n",
    "SELECT Cinsiyet, COUNT(*) AS KisiSayisi, ROUND(AVG(YZORT), 2) AS Ortalama_YZ_Kabulu\n",
    "FROM chatbot_anketi\n",
    "GROUP BY Cinsiyet;\n",
    "\"\"\"\n",
    "\n",
    "pd.read_sql_query(query1, conn)\n",
    "\n"
   ]
  },
  {
   "cell_type": "code",
   "execution_count": null,
   "id": "a238cb8f-17f7-41ee-9543-c2e97a75bcbd",
   "metadata": {},
   "outputs": [],
   "source": []
  }
 ],
 "metadata": {
  "kernelspec": {
   "display_name": "Python [conda env:base] *",
   "language": "python",
   "name": "conda-base-py"
  },
  "language_info": {
   "codemirror_mode": {
    "name": "ipython",
    "version": 3
   },
   "file_extension": ".py",
   "mimetype": "text/x-python",
   "name": "python",
   "nbconvert_exporter": "python",
   "pygments_lexer": "ipython3",
   "version": "3.13.5"
  }
 },
 "nbformat": 4,
 "nbformat_minor": 5
}

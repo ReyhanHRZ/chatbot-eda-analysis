{
 "cells": [
  {
   "cell_type": "markdown",
   "id": "8bbd7a45",
   "metadata": {},
   "source": [
    "import pandas as pd\n",
    "import matplotlib.pyplot as plt\n",
    "import seaborn as sns\n",
    "\n",
    "# Load the cleaned dataset\n",
    "df = pd.read_csv(\"../data/yapayzeka_duzenli.csv\")\n"
   ]
  }
 ],
 "metadata": {
  "language_info": {
   "name": "python"
  }
 },
 "nbformat": 4,
 "nbformat_minor": 5
}
